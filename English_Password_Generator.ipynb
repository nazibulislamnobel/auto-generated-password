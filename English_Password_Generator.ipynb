{
  "nbformat": 4,
  "nbformat_minor": 0,
  "metadata": {
    "colab": {
      "provenance": []
    },
    "kernelspec": {
      "name": "python3",
      "display_name": "Python 3"
    },
    "language_info": {
      "name": "python"
    }
  },
  "cells": [
    {
      "cell_type": "code",
      "execution_count": 19,
      "metadata": {
        "colab": {
          "base_uri": "https://localhost:8080/"
        },
        "id": "1C4f_ZbGvYyi",
        "outputId": "45f1bdb8-7c62-4fa5-a9a1-4302b5ca7d80"
      },
      "outputs": [
        {
          "output_type": "stream",
          "name": "stdout",
          "text": [
            "Your randomly generated English password is: rZ~9GvA7xa\n"
          ]
        }
      ],
      "source": [
        "import random\n",
        "\n",
        "english_small_letter = \"abcdefghijklmnopqrstuvwxyz\"\n",
        "english_capital_letter = \"ABCDEFGHIJKLMNOPQRSTUVWXYZ\"\n",
        "numbers = \"0123456789\"\n",
        "symbols = \"~!@#$%^&*_+?\"\n",
        "\n",
        "utilize_for_pass = english_small_letter + english_capital_letter + numbers + symbols\n",
        "dimension_for_pass = 10\n",
        "\n",
        "password = \"\".join(random.sample(utilize_for_pass, dimension_for_pass))\n",
        "\n",
        "print (\"Your randomly generated English password is:\", password)"
      ]
    }
  ]
}