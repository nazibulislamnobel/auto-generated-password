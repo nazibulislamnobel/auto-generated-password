{
  "nbformat": 4,
  "nbformat_minor": 0,
  "metadata": {
    "colab": {
      "provenance": []
    },
    "kernelspec": {
      "name": "python3",
      "display_name": "Python 3"
    },
    "language_info": {
      "name": "python"
    }
  },
  "cells": [
    {
      "cell_type": "code",
      "execution_count": 16,
      "metadata": {
        "colab": {
          "base_uri": "https://localhost:8080/"
        },
        "id": "1C4f_ZbGvYyi",
        "outputId": "b74fd8f5-354d-412d-f703-8fabc2e1b9ab"
      },
      "outputs": [
        {
          "output_type": "stream",
          "name": "stdout",
          "text": [
            "Your randomly generated Bangla password is: চড$৮৭ষ২ছময়\n"
          ]
        }
      ],
      "source": [
        "import random\n",
        "\n",
        "bangla_vowel = \"অআইঈউঊঋএঐওঔ\"\n",
        "bangla_consonant = \"কখগঘঙচছজঝঞটঠডঢণতথদধনপফবভমযরলশষসহড়ঢ়য়ৎ\"\n",
        "numbers = \"০১২৩৪৫৬৭৮৯\"\n",
        "symbols = \"~!@#$%^&*_+?\"\n",
        "\n",
        "utilize_for_pass = bangla_vowel + bangla_consonant + numbers + symbols\n",
        "dimension_for_pass = 10\n",
        "\n",
        "password = \"\".join(random.sample(utilize_for_pass, dimension_for_pass))\n",
        "\n",
        "print (\"Your randomly generated Bangla password is:\", password)"
      ]
    }
  ]
}